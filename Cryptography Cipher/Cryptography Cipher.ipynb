{
 "cells": [
  {
   "cell_type": "code",
   "execution_count": 3,
   "metadata": {},
   "outputs": [
    {
     "name": "stdout",
     "output_type": "stream",
     "text": [
      "Encrypted message: khoor, gr qrw whoo wkh vhfuhw!\n",
      "Uncrypted message: hello, do not tell the secret!\n"
     ]
    }
   ],
   "source": [
    "import string\n",
    "\n",
    "def caeser_encrypt(message, key):\n",
    "\n",
    "    shift = key % 26\n",
    "    cipher = str.maketrans(string.ascii_lowercase, string.ascii_lowercase[shift:] + string.ascii_lowercase[:shift])\n",
    "\n",
    "    encrypted_message = message.lower().translate(cipher)\n",
    "\n",
    "    return encrypted_message\n",
    "\n",
    "def caeser_decrypt(encrypted_message, key):\n",
    "\n",
    "    shift = 26 - (key % 26)\n",
    "    cipher = str.maketrans(string.ascii_lowercase, string.ascii_lowercase[shift:] + string.ascii_lowercase[:shift])\n",
    "    \n",
    "    message = encrypted_message.translate(cipher)\n",
    "    return message\n",
    "\n",
    "message = \"Hello, do not tell the secret!\"\n",
    "key = 3\n",
    "\n",
    "encrypted_message = caeser_encrypt(message, key)\n",
    "print(f\"Encrypted message: {encrypted_message}\")\n",
    "\n",
    "decrypted_message = caeser_decrypt(encrypted_message, key)\n",
    "print(f\"Uncrypted message: {decrypted_message}\")"
   ]
  },
  {
   "cell_type": "code",
   "execution_count": null,
   "metadata": {},
   "outputs": [],
   "source": []
  }
 ],
 "metadata": {
  "kernelspec": {
   "display_name": "Python 3",
   "language": "python",
   "name": "python3"
  },
  "language_info": {
   "codemirror_mode": {
    "name": "ipython",
    "version": 3
   },
   "file_extension": ".py",
   "mimetype": "text/x-python",
   "name": "python",
   "nbconvert_exporter": "python",
   "pygments_lexer": "ipython3",
   "version": "3.9.10"
  }
 },
 "nbformat": 4,
 "nbformat_minor": 2
}
