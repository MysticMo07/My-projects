{
 "cells": [
  {
   "cell_type": "code",
   "execution_count": null,
   "metadata": {},
   "outputs": [],
   "source": [
    "#password manager \n",
    "\n",
    "import hashlib\n",
    "import getpass\n",
    "\n",
    "password_manager = {}\n",
    "\n",
    "def create_account():\n",
    "    username = input(\"Enter your desiresd username: \")\n",
    "    password = getpass.getpass(\"Enter your desired password: \")\n",
    "    hashed_password = hashlib.sha256(password.encode()).hexdigest()\n",
    "    password_manager[username] = hashed_password\n",
    "    print(\"Account created successfully!\")\n",
    "\n",
    "def login():\n",
    "    username = input(\"Enter your desiresd username: \")\n",
    "    password = getpass.getpass(\"Enter your desired password: \")\n",
    "    hashed_password = hashlib.sha256(password.encode()).hexdigest()\n",
    "    if username in password_manager.keys() and password_manager[username] == hashed_password:\n",
    "        print(\"Login successful\")\n",
    "    else:\n",
    "        print(\"Invalid username or password\")\n",
    "\n",
    "def main():\n",
    "    while True:\n",
    "        choice = input(\"Enter 1 to create an account, 2 to login, ir 0 to exit: \")\n",
    "        if choice == \"1\":\n",
    "            create_account()\n",
    "        elif choice == \"2\":\n",
    "            login()\n",
    "        elif choice == \"0\":\n",
    "            break\n",
    "        else:\n",
    "            print(\"Invalid choice.\")\n",
    "\n",
    "if __name__== \"__main__\":\n",
    "    main()\n"
   ]
  }
 ],
 "metadata": {
  "kernelspec": {
   "display_name": "Python 3",
   "language": "python",
   "name": "python3"
  },
  "language_info": {
   "name": "python",
   "version": "3.9.10"
  }
 },
 "nbformat": 4,
 "nbformat_minor": 2
}
