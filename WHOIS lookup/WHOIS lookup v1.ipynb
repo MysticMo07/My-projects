{
 "cells": [
  {
   "cell_type": "code",
   "execution_count": 2,
   "metadata": {},
   "outputs": [
    {
     "name": "stdout",
     "output_type": "stream",
     "text": [
      "% IANA WHOIS server\n",
      "% for more information on IANA, visit http://www.iana.org\n",
      "% This query returned 1 object\n",
      "\n",
      "refer:        whois.verisign-grs.com\n",
      "\n",
      "domain:       COM\n",
      "\n",
      "organisation: VeriSign Global Registry Services\n",
      "address:      12061 Bluemont Way\n",
      "address:      Reston VA 20190\n",
      "address:      United States of America (the)\n",
      "\n",
      "contact:      administrative\n",
      "name:         Registry Customer Service\n",
      "organisation: VeriSign Global Registry Services\n",
      "address:      12061 Bluemont Way\n",
      "address:      Reston VA 20190\n",
      "address:      United States of America (the)\n",
      "phone:        +1 703 925-6999\n",
      "fax-no:       +1 703 948 3978\n",
      "e-mail:       info@verisign-grs.com\n",
      "\n",
      "contact:      technical\n",
      "name:         Registry Customer Service\n",
      "organisation: VeriSign Global Registry Services\n",
      "address:      12061 Bluemont Way\n",
      "address:      Reston VA 20190\n",
      "address:      United States of America (the)\n",
      "phone:        +1 703 925-6999\n",
      "fax-no:       +1 703 948 3978\n",
      "e-mail:       info@verisign-grs.com\n",
      "\n",
      "nserver:      A.GTLD-SERVERS.NET 192.5.6.30 2001:503:a83e:0:0:0:2:30\n",
      "nserver:      B.GTLD-SERVERS.NET 192.33.14.30 2001:503:231d:0:0:0:2:30\n",
      "nserver:      C.GTLD-SERVERS.NET 192.26.92.30 2001:503:83eb:0:0:0:0:30\n",
      "nserver:      D.GTLD-SERVERS.NET 192.31.80.30 2001:500:856e:0:0:0:0:30\n",
      "nserver:      E.GTLD-SERVERS.NET 192.12.94.30 2001:502:1ca1:0:0:0:0:30\n",
      "nserver:      F.GTLD-SERVERS.NET 192.35.51.30 2001:503:d414:0:0:0:0:30\n",
      "nserver:      G.GTLD-SERVERS.NET 192.42.93.30 2001:503:eea3:0:0:0:0:30\n",
      "nserver:      H.GTLD-SERVERS.NET 192.54.112.30 2001:502:8cc:0:0:0:0:30\n",
      "nserver:      I.GTLD-SERVERS.NET 192.43.172.30 2001:503:39c1:0:0:0:0:30\n",
      "nserver:      J.GTLD-SERVERS.NET 192.48.79.30 2001:502:7094:0:0:0:0:30\n",
      "nserver:      K.GTLD-SERVERS.NET 192.52.178.30 2001:503:d2d:0:0:0:0:30\n",
      "nserver:      L.GTLD-SERVERS.NET 192.41.162.30 2001:500:d937:0:0:0:0:30\n",
      "nserver:      M.GTLD-SERVERS.NET 192.55.83.30 2001:501:b1f9:0:0:0:0:30\n",
      "ds-rdata:     19718 13 2 8acbb0cd28f41250a80a491389424d341522d946b0da0c0291f2d3d771d7805a\n",
      "\n",
      "whois:        whois.verisign-grs.com\n",
      "\n",
      "status:       ACTIVE\n",
      "remarks:      Registration information: http://www.verisigninc.com\n",
      "\n",
      "created:      1985-01-01\n",
      "changed:      2023-12-07\n",
      "source:       IANA\n",
      "\n",
      "\n"
     ]
    }
   ],
   "source": [
    "import socket\n",
    "\n",
    "def whois_lookup(domain: str):\n",
    "    s = socket.socket(socket.AF_INET,\n",
    "    socket.SOCK_STREAM)\n",
    "    s.connect((\"whois.iana.org\", 43))\n",
    "    s.send(f\"{domain}\\r\\n\".encode())\n",
    "    response = s.recv(4096).decode()\n",
    "    s.close()\n",
    "    return response\n",
    "\n",
    "print(whois_lookup(\"google.com\"))"
   ]
  },
  {
   "cell_type": "code",
   "execution_count": null,
   "metadata": {},
   "outputs": [],
   "source": []
  }
 ],
 "metadata": {
  "kernelspec": {
   "display_name": "Python 3",
   "language": "python",
   "name": "python3"
  },
  "language_info": {
   "codemirror_mode": {
    "name": "ipython",
    "version": 3
   },
   "file_extension": ".py",
   "mimetype": "text/x-python",
   "name": "python",
   "nbconvert_exporter": "python",
   "pygments_lexer": "ipython3",
   "version": "3.9.10"
  }
 },
 "nbformat": 4,
 "nbformat_minor": 2
}
